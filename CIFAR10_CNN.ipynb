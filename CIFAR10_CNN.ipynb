{
 "cells": [
  {
   "cell_type": "markdown",
   "id": "783aeb0c",
   "metadata": {},
   "source": [
    "Loading important libraries and initial setup:"
   ]
  },
  {
   "cell_type": "code",
   "execution_count": 3,
   "id": "a3275c78",
   "metadata": {},
   "outputs": [],
   "source": [
    "import numpy as np\n",
    "import matplotlib.pyplot as plt\n",
    "import torch\n",
    "import torch.nn as nn\n",
    "import torch.optim as optim\n",
    "import torchvision\n",
    "import torchvision.transforms as transforms"
   ]
  },
  {
   "cell_type": "code",
   "execution_count": 4,
   "id": "df7fc8e9",
   "metadata": {},
   "outputs": [],
   "source": [
    "# !pip install torch torchvision torchaudio"
   ]
  },
  {
   "cell_type": "code",
   "execution_count": 5,
   "id": "361d650e",
   "metadata": {},
   "outputs": [
    {
     "name": "stdout",
     "output_type": "stream",
     "text": [
      "Using device: cpu\n"
     ]
    }
   ],
   "source": [
    "device = torch.device('cuda' if torch.cuda.is_available() else 'cpu')\n",
    "print(f'Using device: {device}')"
   ]
  },
  {
   "cell_type": "markdown",
   "id": "366e7834",
   "metadata": {},
   "source": [
    "## Downloading data from torchvision datasets:"
   ]
  },
  {
   "cell_type": "code",
   "execution_count": 6,
   "id": "73126ed3",
   "metadata": {},
   "outputs": [],
   "source": [
    "# setting transform pipeline:\n",
    "transform = transforms.Compose(\n",
    "    [\n",
    "        transforms.ToTensor(), # converting images to tensor\n",
    "        transforms.Normalize((0.5, 0.5, 0.5), (0.5, 0.5, 0.5))\n",
    "    ]\n",
    ")"
   ]
  },
  {
   "cell_type": "code",
   "execution_count": 8,
   "id": "9a18a7ce",
   "metadata": {},
   "outputs": [
    {
     "name": "stdout",
     "output_type": "stream",
     "text": [
      "Data downloaded successfully!\n"
     ]
    }
   ],
   "source": [
    "# downloading training data:\n",
    "train_dataset = torchvision.datasets.CIFAR10(\n",
    "    root='./data', # saving data in the 'data' directory\n",
    "    train=True, # training data\n",
    "    download=True,\n",
    "    transform = transform\n",
    ")\n",
    "\n",
    "# downloading testing data:\n",
    "test_dataset = torchvision.datasets.CIFAR10(\n",
    "    root='./data',\n",
    "    train=False,\n",
    "    download=True,\n",
    "    transform=transform\n",
    ")\n",
    "\n",
    "print('Data downloaded successfully!')"
   ]
  },
  {
   "cell_type": "markdown",
   "id": "bff89477",
   "metadata": {},
   "source": [
    "### Creating DataLoaders to handle batching and shuffling:"
   ]
  },
  {
   "cell_type": "code",
   "execution_count": 23,
   "id": "a6f9f6f5",
   "metadata": {},
   "outputs": [],
   "source": [
    "# Defining hyperparameters:\n",
    "BATCH_SIZE = 64\n",
    "NUM_EPOCHS = 20\n",
    "LEARNING_RATE = 0.001"
   ]
  },
  {
   "cell_type": "code",
   "execution_count": 10,
   "id": "dcec5c9e",
   "metadata": {},
   "outputs": [
    {
     "name": "stdout",
     "output_type": "stream",
     "text": [
      "Train loader size: 782 batches\n",
      "Test loader size: 157 batches\n"
     ]
    }
   ],
   "source": [
    "train_loader = torch.utils.data.DataLoader(\n",
    "    dataset=train_dataset,\n",
    "    batch_size=BATCH_SIZE,\n",
    "    shuffle=True\n",
    ")\n",
    "\n",
    "test_loader = torch.utils.data.DataLoader(\n",
    "    dataset=test_dataset, \n",
    "    batch_size=BATCH_SIZE,\n",
    "    shuffle=False\n",
    ")\n",
    "\n",
    "print(f'Train loader size: {len(train_loader)} batches')\n",
    "print(f'Test loader size: {len(test_loader)} batches')"
   ]
  },
  {
   "cell_type": "code",
   "execution_count": 11,
   "id": "f7040c23",
   "metadata": {},
   "outputs": [],
   "source": [
    "# Defining target classes:\n",
    "classes=('plane', 'car', 'bird', 'cat', 'deer','dog', 'frog', 'horse', 'ship', 'truck')     # got these classes from the CIFAR10 dataset documentation"
   ]
  },
  {
   "cell_type": "markdown",
   "id": "a8c1ee1c",
   "metadata": {},
   "source": [
    "## Defining CNN Model:"
   ]
  },
  {
   "cell_type": "code",
   "execution_count": 25,
   "id": "c22b871f",
   "metadata": {},
   "outputs": [],
   "source": [
    "class CIFAR_CNN(nn.Module):\n",
    "    def __init__(self):\n",
    "        super(CIFAR_CNN, self).__init__()\n",
    "        \n",
    "        # First convolutional layer - input = 3*32*32\n",
    "        self.conv1 = nn.Sequential(\n",
    "            nn.Conv2d(in_channels=3, out_channels=6, kernel_size=3, stride=1, padding=1),    # use formulae: padding = kernel//2 and output = [{(input-kernel+2Padding)/Stride} + 1] to get an idea of stride and padding values.\n",
    "            nn.ReLU(),\n",
    "            nn.MaxPool2d(kernel_size=2, stride=2)    # reduces the image size from 32x32 to 16x16\n",
    "        )\n",
    "        \n",
    "        # Second convolutional layer - input = 6*16*16\n",
    "        self.conv2 = nn.Sequential(\n",
    "            nn.Conv2d(in_channels=6, out_channels=12, kernel_size=3, stride=1, padding=1),\n",
    "            nn.ReLU(),\n",
    "            nn.MaxPool2d(kernel_size=2, stride=2)    # reduces the image size from 16x16 to 8x8\n",
    "        )\n",
    "        \n",
    "        # Third convolutional layer - input = 12*8*8\n",
    "        self.conv3 = nn.Sequential(\n",
    "            nn.Conv2d(in_channels=12, out_channels=24, kernel_size=3, stride=1, padding=1),\n",
    "            nn.ReLU(),\n",
    "            nn.MaxPool2d(kernel_size=2, stride=2)    # reduces the image size from 8x8 to 4x4\n",
    "        )\n",
    "        \n",
    "        # Fully connected layer - input = 24*4*4\n",
    "        self.fct1 = nn.Sequential(\n",
    "            nn.Linear(in_features=24*4*4, out_features=500), \n",
    "            nn.ReLU(),\n",
    "            nn.Dropout(p=0.5), # p=0.5 means a 50% chance of dropping each neuron\n",
    "            nn.Linear(in_features=500, out_features=10) # output = 10 classes\n",
    "        )\n",
    "        \n",
    "    def forward(self, x):\n",
    "        # input shape: (64 (batch_size), 3, 32, 32)  \n",
    "        x = self.conv1(x)   # output shape: (64(batch_size), 6, 16, 16)\n",
    "        x = self.conv2(x)   # output shape: (64(batch_size), 12, 8, 8)\n",
    "        x = self.conv3(x)   # output shape: (64(batch_size), 24, 4, 4)\n",
    "\n",
    "        # reshaping the tensor to fit into the fully connected layer\n",
    "        x = x.view(-1, 24*4*4)\n",
    "        \n",
    "        # input shape: (64(batch_size), 24*4*4) = (64, 384)\n",
    "        x = self.fct1(x)    # output shape: (64(batch_size), 10)\n",
    "        return x"
   ]
  },
  {
   "cell_type": "code",
   "execution_count": 26,
   "id": "6dfae0fd",
   "metadata": {},
   "outputs": [],
   "source": [
    "# Instantiating the model and optimizer:\n",
    "model = CIFAR_CNN().to(device)\n",
    "criterion = nn.CrossEntropyLoss()\n",
    "optimizer = optim.Adam(model.parameters(), lr=LEARNING_RATE, weight_decay=1e-4)  # weight decay is used for regularization"
   ]
  },
  {
   "cell_type": "markdown",
   "id": "eda848af",
   "metadata": {},
   "source": [
    "## Training Loop:"
   ]
  },
  {
   "cell_type": "code",
   "execution_count": 27,
   "id": "52d1a011",
   "metadata": {},
   "outputs": [],
   "source": [
    "# --- Lists to store metrics for plotting later ---\n",
    "train_losses = []\n",
    "train_accuracies = []\n",
    "val_accuracies = []"
   ]
  },
  {
   "cell_type": "code",
   "execution_count": 28,
   "id": "f67b5497",
   "metadata": {},
   "outputs": [
    {
     "name": "stdout",
     "output_type": "stream",
     "text": [
      "Starting training...\n",
      "Epoch [1/20], Loss: 1.6785, Train Accuracy: 38.21%, Val Accuracy: 48.12%\n",
      "Epoch [2/20], Loss: 1.3843, Train Accuracy: 50.24%, Val Accuracy: 53.34%\n",
      "Epoch [3/20], Loss: 1.2635, Train Accuracy: 54.69%, Val Accuracy: 57.70%\n",
      "Epoch [4/20], Loss: 1.1718, Train Accuracy: 58.28%, Val Accuracy: 61.10%\n",
      "Epoch [5/20], Loss: 1.1051, Train Accuracy: 60.52%, Val Accuracy: 62.79%\n",
      "Epoch [6/20], Loss: 1.0572, Train Accuracy: 62.30%, Val Accuracy: 64.23%\n",
      "Epoch [7/20], Loss: 1.0083, Train Accuracy: 64.17%, Val Accuracy: 65.33%\n",
      "Epoch [8/20], Loss: 0.9792, Train Accuracy: 65.50%, Val Accuracy: 65.59%\n",
      "Epoch [9/20], Loss: 0.9486, Train Accuracy: 66.39%, Val Accuracy: 65.62%\n",
      "Epoch [10/20], Loss: 0.9172, Train Accuracy: 67.50%, Val Accuracy: 67.49%\n",
      "Epoch [11/20], Loss: 0.8971, Train Accuracy: 68.09%, Val Accuracy: 67.48%\n",
      "Epoch [12/20], Loss: 0.8746, Train Accuracy: 69.06%, Val Accuracy: 67.64%\n",
      "Epoch [13/20], Loss: 0.8498, Train Accuracy: 69.86%, Val Accuracy: 68.12%\n",
      "Epoch [14/20], Loss: 0.8308, Train Accuracy: 70.32%, Val Accuracy: 69.08%\n",
      "Epoch [15/20], Loss: 0.8122, Train Accuracy: 71.16%, Val Accuracy: 69.31%\n",
      "Epoch [16/20], Loss: 0.7977, Train Accuracy: 71.70%, Val Accuracy: 68.55%\n",
      "Epoch [17/20], Loss: 0.7834, Train Accuracy: 72.04%, Val Accuracy: 69.36%\n",
      "Epoch [18/20], Loss: 0.7696, Train Accuracy: 72.58%, Val Accuracy: 69.04%\n",
      "Epoch [19/20], Loss: 0.7597, Train Accuracy: 72.95%, Val Accuracy: 69.79%\n",
      "Epoch [20/20], Loss: 0.7411, Train Accuracy: 73.48%, Val Accuracy: 69.87%\n",
      "Training completed!\n"
     ]
    }
   ],
   "source": [
    "print(\"Starting training...\")\n",
    "\n",
    "for epoch in range(NUM_EPOCHS):\n",
    "    model.train()  # set the model to training mode\n",
    "    running_loss = 0.0\n",
    "    correct_train = 0\n",
    "    total_train = 0\n",
    "    \n",
    "    for i, (images, labels) in enumerate(train_loader):\n",
    "        images = images.to(device)\n",
    "        labels = labels.to(device)\n",
    "        \n",
    "        # forward pass\n",
    "        outputs = model(images)\n",
    "        loss = criterion(outputs, labels)\n",
    "        \n",
    "        # backpropagation\n",
    "        optimizer.zero_grad()\n",
    "        loss.backward()\n",
    "        optimizer.step()    # updating weights after backpropagation\n",
    "        \n",
    "        # calculate running loss and accuracy for current batch\n",
    "        running_loss += loss.item() # adding the loss for the current batch to running loss\n",
    "        _, predicted = torch.max(outputs.data, 1) # getting the predicted labels\n",
    "        total_train += labels.size(0) \n",
    "        correct_train += (predicted == labels).sum().item() # calculating the number of correct predictions\n",
    "        \n",
    "    epoch_loss = running_loss / len(train_loader) # average loss for the epoch\n",
    "    epoch_train_acc = 100 * correct_train / total_train # training accuracy for the epoch\n",
    "    \n",
    "    # adding metrics to lists for plotting later\n",
    "    train_losses.append(epoch_loss)\n",
    "    train_accuracies.append(epoch_train_acc)\n",
    "    \n",
    "    \n",
    "    # -----------------------------------------------------------------------------------------------------------------------------------------------------------\n",
    "    # Validation phase - for testing the model on validation data\n",
    "    model.eval() # set the model to evaluation mode\n",
    "    correct_val = 0\n",
    "    total_val = 0\n",
    "    \n",
    "    with torch.no_grad():\n",
    "        for images, labels in test_loader:\n",
    "            images = images.to(device)\n",
    "            labels = labels.to(device)\n",
    "            \n",
    "            # forward pass\n",
    "            outputs = model(images)\n",
    "            \n",
    "            # getting the predicted labels\n",
    "            _, predicted = torch.max(outputs.data, 1)\n",
    "            \n",
    "            total_val += labels.size(0)\n",
    "            correct_val += (predicted == labels).sum().item()\n",
    "    \n",
    "    epoch_val_acc = 100 * correct_val / total_val\n",
    "    val_accuracies.append(epoch_val_acc)\n",
    "    \n",
    "    # printing the metrics for the current epoch\n",
    "    print(\n",
    "        f'Epoch [{epoch+1}/{NUM_EPOCHS}], Loss: {epoch_loss:.4f}, '\n",
    "        f'Train Accuracy: {epoch_train_acc:.2f}%, Val Accuracy: {epoch_val_acc:.2f}%'\n",
    "    )\n",
    "\n",
    "print(\"Training completed!\")"
   ]
  },
  {
   "cell_type": "code",
   "execution_count": 29,
   "id": "cd39388a",
   "metadata": {},
   "outputs": [
    {
     "data": {
      "image/png": "[encoded data removed]",
      "text/plain": [
       "<Figure size 1200x500 with 1 Axes>"
      ]
     },
     "metadata": {},
     "output_type": "display_data"
    }
   ],
   "source": [
    "plt.figure(figsize=(12, 5))\n",
    "plt.plot(train_accuracies, label='Train Accuracy')\n",
    "plt.plot(val_accuracies, label='Validation Accuracy')\n",
    "plt.xlabel('Epochs')\n",
    "plt.ylabel('Accuracy (%)')\n",
    "plt.title('Training and Validation Accuracy')\n",
    "plt.legend()\n",
    "plt.show()"
   ]
  },
  {
   "cell_type": "markdown",
   "id": "30bb66a0",
   "metadata": {},
   "source": [
    "### Per Class accuracy:"
   ]
  },
  {
   "cell_type": "code",
   "execution_count": 30,
   "id": "671697f7",
   "metadata": {},
   "outputs": [],
   "source": [
    "from sklearn.metrics import confusion_matrix\n",
    "import seaborn as sns"
   ]
  },
  {
   "cell_type": "code",
   "execution_count": 31,
   "id": "f61e4ec0",
   "metadata": {},
   "outputs": [
    {
     "name": "stdout",
     "output_type": "stream",
     "text": [
      "\n",
      "--- Per-Class Accuracy ---\n",
      "Accuracy of plane     : 74.10 %\n",
      "Accuracy of car       : 78.90 %\n",
      "Accuracy of bird      : 58.40 %\n",
      "Accuracy of cat       : 53.60 %\n",
      "Accuracy of deer      : 69.60 %\n",
      "Accuracy of dog       : 58.20 %\n",
      "Accuracy of frog      : 74.90 %\n",
      "Accuracy of horse     : 76.00 %\n",
      "Accuracy of ship      : 75.60 %\n",
      "Accuracy of truck     : 79.40 %\n"
     ]
    }
   ],
   "source": [
    "class_total = [0.] * 10 # list to store the total number of images for each class\n",
    "class_correct = [0.] * 10 # list to store the number of correct predictions for each class\n",
    "\n",
    "with torch.no_grad():\n",
    "    for images, labels in test_loader:\n",
    "        images = images.to(device)\n",
    "        labels = labels.to(device)\n",
    "        \n",
    "        outputs = model(images)\n",
    "        _, predicted = torch.max(outputs.data, 1)\n",
    "        \n",
    "        c = (predicted == labels).squeeze()\n",
    "        \n",
    "        for i in range(len(labels)):\n",
    "            label = labels[i]\n",
    "            class_correct[label] += c[i].item()\n",
    "            class_total[label] += 1\n",
    "\n",
    "print(\"\\n--- Per-Class Accuracy ---\")\n",
    "for i in range(10):\n",
    "    if class_total[i] > 0:\n",
    "        print(f'Accuracy of {classes[i]:<10s}: {100 * class_correct[i] / class_total[i]:.2f} %')\n",
    "    else:\n",
    "        print(f'Accuracy of {classes[i]:<10s}: N/A (no samples)')\n"
   ]
  },
  {
   "cell_type": "code",
   "execution_count": null,
   "id": "49086c43",
   "metadata": {},
   "outputs": [],
   "source": []
  },
  {
   "cell_type": "code",
   "execution_count": null,
   "id": "7d921510",
   "metadata": {},
   "outputs": [],
   "source": []
  },
  {
   "cell_type": "code",
   "execution_count": null,
   "id": "bcdce314",
   "metadata": {},
   "outputs": [],
   "source": []
  }
 ],
 "metadata": {
  "kernelspec": {
   "display_name": "base",
   "language": "python",
   "name": "python3"
  },
  "language_info": {
   "codemirror_mode": {
    "name": "ipython",
    "version": 3
   },
   "file_extension": ".py",
   "mimetype": "text/x-python",
   "name": "python",
   "nbconvert_exporter": "python",
   "pygments_lexer": "ipython3",
   "version": "3.12.7"
  }
 },
 "nbformat": 4,
 "nbformat_minor": 5
}
